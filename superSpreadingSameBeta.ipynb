{
  "nbformat": 4,
  "nbformat_minor": 0,
  "metadata": {
    "colab": {
      "provenance": [],
      "gpuType": "T4"
    },
    "kernelspec": {
      "name": "python3",
      "display_name": "Python 3"
    },
    "language_info": {
      "name": "python"
    },
    "accelerator": "GPU",
    "gpuClass": "standard"
  },
  "cells": [
    {
      "cell_type": "code",
      "execution_count": null,
      "metadata": {
        "colab": {
          "base_uri": "https://localhost:8080/"
        },
        "id": "QuT3N1lUogUT",
        "outputId": "4e726e58-e631-4694-ee4d-c05dfc941b59"
      },
      "outputs": [
        {
          "output_type": "stream",
          "name": "stdout",
          "text": [
            "Looking in indexes: https://pypi.org/simple, https://us-python.pkg.dev/colab-wheels/public/simple/\n",
            "Collecting covasim\n",
            "  Downloading covasim-3.1.4-py3-none-any.whl (1.6 MB)\n",
            "\u001b[2K     \u001b[90m━━━━━━━━━━━━━━━━━━━━━━━━━━━━━━━━━━━━━━━━\u001b[0m \u001b[32m1.6/1.6 MB\u001b[0m \u001b[31m69.2 MB/s\u001b[0m eta \u001b[36m0:00:00\u001b[0m\n",
            "\u001b[?25hRequirement already satisfied: numpy in /usr/local/lib/python3.10/dist-packages (from covasim) (1.22.4)\n",
            "Requirement already satisfied: numba in /usr/local/lib/python3.10/dist-packages (from covasim) (0.56.4)\n",
            "Requirement already satisfied: pandas in /usr/local/lib/python3.10/dist-packages (from covasim) (1.5.3)\n",
            "Requirement already satisfied: scipy in /usr/local/lib/python3.10/dist-packages (from covasim) (1.10.1)\n",
            "Requirement already satisfied: statsmodels in /usr/local/lib/python3.10/dist-packages (from covasim) (0.13.5)\n",
            "Requirement already satisfied: matplotlib in /usr/local/lib/python3.10/dist-packages (from covasim) (3.7.1)\n",
            "Collecting sciris>=2.0.1 (from covasim)\n",
            "  Downloading sciris-3.0.0-py3-none-any.whl (213 kB)\n",
            "\u001b[2K     \u001b[90m━━━━━━━━━━━━━━━━━━━━━━━━━━━━━━━━━━━━━━\u001b[0m \u001b[32m213.5/213.5 kB\u001b[0m \u001b[31m28.8 MB/s\u001b[0m eta \u001b[36m0:00:00\u001b[0m\n",
            "\u001b[?25hRequirement already satisfied: openpyxl in /usr/local/lib/python3.10/dist-packages (from sciris>=2.0.1->covasim) (3.0.10)\n",
            "Collecting xlsxwriter (from sciris>=2.0.1->covasim)\n",
            "  Downloading XlsxWriter-3.1.2-py3-none-any.whl (153 kB)\n",
            "\u001b[2K     \u001b[90m━━━━━━━━━━━━━━━━━━━━━━━━━━━━━━━━━━━━━━\u001b[0m \u001b[32m153.0/153.0 kB\u001b[0m \u001b[31m22.8 MB/s\u001b[0m eta \u001b[36m0:00:00\u001b[0m\n",
            "\u001b[?25hRequirement already satisfied: psutil in /usr/local/lib/python3.10/dist-packages (from sciris>=2.0.1->covasim) (5.9.5)\n",
            "Collecting dill (from sciris>=2.0.1->covasim)\n",
            "  Downloading dill-0.3.6-py3-none-any.whl (110 kB)\n",
            "\u001b[2K     \u001b[90m━━━━━━━━━━━━━━━━━━━━━━━━━━━━━━━━━━━━━━\u001b[0m \u001b[32m110.5/110.5 kB\u001b[0m \u001b[31m15.9 MB/s\u001b[0m eta \u001b[36m0:00:00\u001b[0m\n",
            "\u001b[?25hCollecting zstandard (from sciris>=2.0.1->covasim)\n",
            "  Downloading zstandard-0.21.0-cp310-cp310-manylinux_2_17_x86_64.manylinux2014_x86_64.whl (2.7 MB)\n",
            "\u001b[2K     \u001b[90m━━━━━━━━━━━━━━━━━━━━━━━━━━━━━━━━━━━━━━━━\u001b[0m \u001b[32m2.7/2.7 MB\u001b[0m \u001b[31m97.6 MB/s\u001b[0m eta \u001b[36m0:00:00\u001b[0m\n",
            "\u001b[?25hCollecting multiprocess (from sciris>=2.0.1->covasim)\n",
            "  Downloading multiprocess-0.70.14-py310-none-any.whl (134 kB)\n",
            "\u001b[2K     \u001b[90m━━━━━━━━━━━━━━━━━━━━━━━━━━━━━━━━━━━━━━\u001b[0m \u001b[32m134.3/134.3 kB\u001b[0m \u001b[31m18.1 MB/s\u001b[0m eta \u001b[36m0:00:00\u001b[0m\n",
            "\u001b[?25hRequirement already satisfied: jsonpickle in /usr/local/lib/python3.10/dist-packages (from sciris>=2.0.1->covasim) (3.0.1)\n",
            "Requirement already satisfied: pyyaml in /usr/local/lib/python3.10/dist-packages (from sciris>=2.0.1->covasim) (6.0)\n",
            "Requirement already satisfied: packaging in /usr/local/lib/python3.10/dist-packages (from sciris>=2.0.1->covasim) (23.1)\n",
            "Collecting gitpython (from sciris>=2.0.1->covasim)\n",
            "  Downloading GitPython-3.1.31-py3-none-any.whl (184 kB)\n",
            "\u001b[2K     \u001b[90m━━━━━━━━━━━━━━━━━━━━━━━━━━━━━━━━━━━━━━\u001b[0m \u001b[32m184.3/184.3 kB\u001b[0m \u001b[31m27.8 MB/s\u001b[0m eta \u001b[36m0:00:00\u001b[0m\n",
            "\u001b[?25hCollecting jellyfish (from sciris>=2.0.1->covasim)\n",
            "  Downloading jellyfish-0.11.2-cp310-cp310-manylinux_2_17_x86_64.manylinux2014_x86_64.whl (1.2 MB)\n",
            "\u001b[2K     \u001b[90m━━━━━━━━━━━━━━━━━━━━━━━━━━━━━━━━━━━━━━━━\u001b[0m \u001b[32m1.2/1.2 MB\u001b[0m \u001b[31m38.0 MB/s\u001b[0m eta \u001b[36m0:00:00\u001b[0m\n",
            "\u001b[?25hRequirement already satisfied: tqdm in /usr/local/lib/python3.10/dist-packages (from sciris>=2.0.1->covasim) (4.65.0)\n",
            "Collecting line-profiler (from sciris>=2.0.1->covasim)\n",
            "  Downloading line_profiler-4.0.3-cp310-cp310-manylinux_2_17_x86_64.manylinux2014_x86_64.whl (661 kB)\n",
            "\u001b[2K     \u001b[90m━━━━━━━━━━━━━━━━━━━━━━━━━━━━━━━━━━━━━━\u001b[0m \u001b[32m661.9/661.9 kB\u001b[0m \u001b[31m26.3 MB/s\u001b[0m eta \u001b[36m0:00:00\u001b[0m\n",
            "\u001b[?25hCollecting memory-profiler (from sciris>=2.0.1->covasim)\n",
            "  Downloading memory_profiler-0.61.0-py3-none-any.whl (31 kB)\n",
            "Requirement already satisfied: contourpy>=1.0.1 in /usr/local/lib/python3.10/dist-packages (from matplotlib->covasim) (1.0.7)\n",
            "Requirement already satisfied: cycler>=0.10 in /usr/local/lib/python3.10/dist-packages (from matplotlib->covasim) (0.11.0)\n",
            "Requirement already satisfied: fonttools>=4.22.0 in /usr/local/lib/python3.10/dist-packages (from matplotlib->covasim) (4.39.3)\n",
            "Requirement already satisfied: kiwisolver>=1.0.1 in /usr/local/lib/python3.10/dist-packages (from matplotlib->covasim) (1.4.4)\n",
            "Requirement already satisfied: pillow>=6.2.0 in /usr/local/lib/python3.10/dist-packages (from matplotlib->covasim) (8.4.0)\n",
            "Requirement already satisfied: pyparsing>=2.3.1 in /usr/local/lib/python3.10/dist-packages (from matplotlib->covasim) (3.0.9)\n",
            "Requirement already satisfied: python-dateutil>=2.7 in /usr/local/lib/python3.10/dist-packages (from matplotlib->covasim) (2.8.2)\n",
            "Requirement already satisfied: llvmlite<0.40,>=0.39.0dev0 in /usr/local/lib/python3.10/dist-packages (from numba->covasim) (0.39.1)\n",
            "Requirement already satisfied: setuptools in /usr/local/lib/python3.10/dist-packages (from numba->covasim) (67.7.2)\n",
            "Requirement already satisfied: pytz>=2020.1 in /usr/local/lib/python3.10/dist-packages (from pandas->covasim) (2022.7.1)\n",
            "Requirement already satisfied: patsy>=0.5.2 in /usr/local/lib/python3.10/dist-packages (from statsmodels->covasim) (0.5.3)\n",
            "Requirement already satisfied: six in /usr/local/lib/python3.10/dist-packages (from patsy>=0.5.2->statsmodels->covasim) (1.16.0)\n",
            "Collecting gitdb<5,>=4.0.1 (from gitpython->sciris>=2.0.1->covasim)\n",
            "  Downloading gitdb-4.0.10-py3-none-any.whl (62 kB)\n",
            "\u001b[2K     \u001b[90m━━━━━━━━━━━━━━━━━━━━━━━━━━━━━━━━━━━━━━━━\u001b[0m \u001b[32m62.7/62.7 kB\u001b[0m \u001b[31m9.6 MB/s\u001b[0m eta \u001b[36m0:00:00\u001b[0m\n",
            "\u001b[?25hRequirement already satisfied: et-xmlfile in /usr/local/lib/python3.10/dist-packages (from openpyxl->sciris>=2.0.1->covasim) (1.1.0)\n",
            "Collecting smmap<6,>=3.0.1 (from gitdb<5,>=4.0.1->gitpython->sciris>=2.0.1->covasim)\n",
            "  Downloading smmap-5.0.0-py3-none-any.whl (24 kB)\n",
            "Installing collected packages: zstandard, xlsxwriter, smmap, memory-profiler, line-profiler, jellyfish, dill, multiprocess, gitdb, gitpython, sciris, covasim\n",
            "Successfully installed covasim-3.1.4 dill-0.3.6 gitdb-4.0.10 gitpython-3.1.31 jellyfish-0.11.2 line-profiler-4.0.3 memory-profiler-0.61.0 multiprocess-0.70.14 sciris-3.0.0 smmap-5.0.0 xlsxwriter-3.1.2 zstandard-0.21.0\n"
          ]
        }
      ],
      "source": [
        "!pip install covasim"
      ]
    },
    {
      "cell_type": "code",
      "source": [
        "import covasim as cv\n",
        "import numpy as np\n",
        "import pandas as pd\n",
        "import random\n",
        "import math"
      ],
      "metadata": {
        "colab": {
          "base_uri": "https://localhost:8080/"
        },
        "id": "DlQy7BVhokAM",
        "outputId": "c7408fe4-865d-4bef-c69a-b5ab388a603a"
      },
      "execution_count": null,
      "outputs": [
        {
          "output_type": "stream",
          "name": "stdout",
          "text": [
            "Covasim 3.1.4 (2022-10-22) — © 2020-2022 by IDM\n"
          ]
        }
      ]
    },
    {
      "cell_type": "code",
      "source": [
        "#Non Over Dispersed Data - k = 1.12, R = 3.9 (par1 = 100, par2 = 2.0)\n",
        "#Over Dispersed Data - k = 0.497, R = 3.84 (par1 = 100, par2 = 0.5)\n",
        "##initialize simulations using multisim\n",
        "pars = dict(\n",
        "    pop_type = 'hybrid',\n",
        "    beta_layer  = dict(h=0.6, s=0.6, w=0.6, c=0.6),\n",
        "    beta_dist = dict(dist='neg_binomial', par1=100, par2=0.5),\n",
        "    pop_size = 5000\n",
        "    #use_waning=False\n",
        ")\n",
        "sims = cv.MultiSim(cv.Sim(pars), n_runs=1000,keep_people=True)\n",
        "sims.run()\n",
        "infection_logs = []\n",
        "# Access the infection log of each simulation\n",
        "for sim in sims.sims:\n",
        "    infection_logs.append(sim.people.infection_log)\n",
        "    # Do something with the infection log, such as analyzing or plotting the data"
      ],
      "metadata": {
        "id": "E5i_W5ahBTjA"
      },
      "execution_count": null,
      "outputs": []
    },
    {
      "cell_type": "code",
      "source": [
        "def getData(infections):\n",
        "  ##Goal is to convert this data into list of dictionaries\n",
        "  ##Each dictionary will have key:value pairs for ID and the number of people infected at each layer\n",
        "\n",
        "  ##Ignores date of Infection, could incorperate this\n",
        "\n",
        "  ##Removing seed infections\n",
        "  infectionsWithoutSeeds = infections[20:]\n",
        "\n",
        "  def keyForSort(e):\n",
        "    return e.get('source')\n",
        "\n",
        "  infectionsWithoutSeeds.sort(key=keyForSort)\n",
        "\n",
        "  infectors = []\n",
        "  infectees = []\n",
        "\n",
        "  clusters = []\n",
        "  currInfector = 0\n",
        "  schoolCount = 0\n",
        "  homeCount = 0\n",
        "  communityCount = 0\n",
        "  workCount = 0\n",
        "\n",
        "  for i in range(len(infectionsWithoutSeeds)):\n",
        "    if (infectionsWithoutSeeds[i].get('source') not in infectors):\n",
        "      infectors.append(infectionsWithoutSeeds[i].get('source'))\n",
        "    if (infectionsWithoutSeeds[i].get('target') not in infectees):\n",
        "      infectees.append(infectionsWithoutSeeds[i].get('target'))\n",
        "    if(i==0):\n",
        "      currInfector = infectionsWithoutSeeds[i].get('source')\n",
        "    if(infectionsWithoutSeeds[i].get('source')!=currInfector):\n",
        "      ##Need to create dict object here before reset\n",
        "      currData = dict(Source = currInfector, homeCount = homeCount, communityCount = communityCount, schoolCount = schoolCount, workCount = workCount)\n",
        "      clusters.append(currData)\n",
        "      ##Reset\n",
        "      currInfector = infectionsWithoutSeeds[i].get('source')\n",
        "      schoolCount = 0\n",
        "      homeCount = 0\n",
        "      communityCount = 0\n",
        "      workCount = 0\n",
        "    currLayer = infectionsWithoutSeeds[i].get('layer')\n",
        "    if(currLayer == 'c'):\n",
        "      communityCount += 1\n",
        "    elif(currLayer == 's'):\n",
        "      schoolCount += 1\n",
        "    elif(currLayer == 'w'):\n",
        "      workCount += 1\n",
        "    elif(currLayer == 'h'):\n",
        "      homeCount += 1\n",
        "    else:\n",
        "      print('error found in data: ', currLayer)\n",
        "\n",
        "  ##Save the perfectly traced data here\n",
        "\n",
        "  perfectData = []\n",
        "  for i in range(len(clusters)):\n",
        "    perfectClusterSize = clusters[i].get('communityCount') + clusters[i].get('workCount') + clusters[i].get('schoolCount') + clusters[i].get('homeCount')\n",
        "    perfectData.append(perfectClusterSize)\n",
        "\n",
        "  #account for those who didn't infect anyone\n",
        "  for i in range(len(infectees) - len(infectors)):\n",
        "    perfectData.append(0)\n",
        "\n",
        "  percents = [0.75,0.5,0.25]\n",
        "  subsettedData = []\n",
        "  for percent in percents:\n",
        "    clusterDataAltered = clusters\n",
        "    for i in range(len(clusterDataAltered)):\n",
        "      clusterDataAltered[i]['communityCount'] = math.ceil(percent*clusterDataAltered[i].get('communityCount'))\n",
        "      clusterDataAltered[i]['workCount'] = math.ceil(percent*clusterDataAltered[i].get('workCount'))\n",
        "      clusterDataAltered[i]['schoolCount'] = math.ceil(percent*clusterDataAltered[i].get('schoolCount'))\n",
        "    alteredData = []\n",
        "    for i in range(len(clusters)):\n",
        "      alteredClusterSize = clusterDataAltered[i].get('communityCount') + clusterDataAltered[i].get('workCount') + clusterDataAltered[i].get('schoolCount') + clusterDataAltered[i].get('homeCount')\n",
        "      alteredData.append(alteredClusterSize)\n",
        "    for i in range(len(infectees) - len(infectors)):\n",
        "      alteredData.append(0)\n",
        "    subsettedData.append(alteredData)\n",
        "  return (perfectData, subsettedData)"
      ],
      "metadata": {
        "id": "VfT3UDhaD2GI"
      },
      "execution_count": null,
      "outputs": []
    },
    {
      "cell_type": "code",
      "source": [
        "perfectData = []\n",
        "twentyFivePercentData = []\n",
        "fiftyPercentData = []\n",
        "seventyFivePercentData = []\n",
        "for i in infection_logs:\n",
        "  data = getData(i)\n",
        "  perfectData.append(data[0])\n",
        "  twentyFivePercentData.append(data[1][2])\n",
        "  fiftyPercentData.append(data[1][1])\n",
        "  seventyFivePercentData.append(data[1][0])"
      ],
      "metadata": {
        "id": "glaigR1CGtvo"
      },
      "execution_count": null,
      "outputs": []
    },
    {
      "cell_type": "code",
      "source": [
        "from google.colab import drive\n",
        "drive.mount('drive')\n",
        "\n",
        "dfPerf = pd.DataFrame(perfectData)\n",
        "df25 = pd.DataFrame(twentyFivePercentData)\n",
        "df50 = pd.DataFrame(fiftyPercentData)\n",
        "df75 = pd.DataFrame(seventyFivePercentData)\n",
        "\n",
        "dfPerf.to_csv('metaDataPerfOverDispersedSameBeta.csv', index = False)\n",
        "!cp metaDataPerfOverDispersedSameBeta.csv \"drive/My Drive/Covasim\"\n",
        "\n",
        "df25.to_csv('metaData25OverDispersedSameBeta.csv', index = False)\n",
        "!cp metaData25OverDispersedSameBeta.csv \"drive/My Drive/Covasim\"\n",
        "\n",
        "df50.to_csv('metaData50OverDispersedSameBeta.csv', index = False)\n",
        "!cp metaData50OverDispersedSameBeta.csv \"drive/My Drive/Covasim\"\n",
        "\n",
        "df75.to_csv('metaData75OverDispersedSameBeta.csv', index = False)\n",
        "!cp metaData75OverDispersedSameBeta.csv \"drive/My Drive/Covasim\""
      ],
      "metadata": {
        "colab": {
          "base_uri": "https://localhost:8080/"
        },
        "id": "LLhulNdwan31",
        "outputId": "6227222b-b116-494d-fd55-53e8be64fa62"
      },
      "execution_count": null,
      "outputs": [
        {
          "output_type": "stream",
          "name": "stdout",
          "text": [
            "Mounted at drive\n"
          ]
        }
      ]
    }
  ]
}